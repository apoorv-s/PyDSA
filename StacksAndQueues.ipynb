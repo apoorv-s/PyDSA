{
 "cells": [
  {
   "cell_type": "code",
   "execution_count": null,
   "id": "e4548524-8244-4581-a5e8-758f712aeaae",
   "metadata": {},
   "outputs": [],
   "source": []
  },
  {
   "cell_type": "code",
   "execution_count": null,
   "id": "89643df7-3f2a-4ed8-b50d-2eb1e04b9d96",
   "metadata": {},
   "outputs": [],
   "source": []
  },
  {
   "cell_type": "markdown",
   "id": "18b7754a-c896-4120-8486-17b718451ddc",
   "metadata": {},
   "source": [
    "## 232. Implement Queue using Stacks\n"
   ]
  },
  {
   "cell_type": "code",
   "execution_count": null,
   "id": "5155b0e2-a77b-4f28-a5f7-06c700bf7ab2",
   "metadata": {},
   "outputs": [],
   "source": []
  },
  {
   "cell_type": "code",
   "execution_count": null,
   "id": "afddece1-811a-441e-8e60-375d121cdcab",
   "metadata": {},
   "outputs": [],
   "source": []
  },
  {
   "cell_type": "code",
   "execution_count": null,
   "id": "3728ff10-3944-430b-a8af-9ee49e01902c",
   "metadata": {},
   "outputs": [],
   "source": []
  },
  {
   "cell_type": "code",
   "execution_count": null,
   "id": "bf2abdce-bda5-4d78-b1d3-c7fa299d1892",
   "metadata": {},
   "outputs": [],
   "source": []
  },
  {
   "cell_type": "code",
   "execution_count": null,
   "id": "13358a2a-cf76-4fa1-919b-d4f292a1f597",
   "metadata": {},
   "outputs": [],
   "source": []
  },
  {
   "cell_type": "code",
   "execution_count": null,
   "id": "ca72b276-ce80-4ed7-8cfb-e79463f2be22",
   "metadata": {},
   "outputs": [],
   "source": []
  },
  {
   "cell_type": "code",
   "execution_count": null,
   "id": "caaba7a2-a2e6-478a-b2e2-fa66dc5d4c65",
   "metadata": {},
   "outputs": [],
   "source": []
  }
 ],
 "metadata": {
  "kernelspec": {
   "display_name": "Python 3 (ipykernel)",
   "language": "python",
   "name": "python3"
  },
  "language_info": {
   "codemirror_mode": {
    "name": "ipython",
    "version": 3
   },
   "file_extension": ".py",
   "mimetype": "text/x-python",
   "name": "python",
   "nbconvert_exporter": "python",
   "pygments_lexer": "ipython3",
   "version": "3.8.20"
  }
 },
 "nbformat": 4,
 "nbformat_minor": 5
}
