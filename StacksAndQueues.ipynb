{
 "cells": [
  {
   "cell_type": "code",
   "execution_count": 13,
   "id": "e4548524-8244-4581-a5e8-758f712aeaae",
   "metadata": {},
   "outputs": [],
   "source": [
    "from typing import List, Optional"
   ]
  },
  {
   "cell_type": "code",
   "execution_count": null,
   "id": "89643df7-3f2a-4ed8-b50d-2eb1e04b9d96",
   "metadata": {},
   "outputs": [],
   "source": []
  },
  {
   "cell_type": "markdown",
   "id": "18b7754a-c896-4120-8486-17b718451ddc",
   "metadata": {},
   "source": [
    "## 232. Implement Queue using Stacks\n"
   ]
  },
  {
   "cell_type": "code",
   "execution_count": 14,
   "id": "5155b0e2-a77b-4f28-a5f7-06c700bf7ab2",
   "metadata": {},
   "outputs": [],
   "source": [
    "## using two stacks (using dequeue as stack)\n",
    "\n",
    "from collections import deque\n",
    "\n",
    "class MyQueue:\n",
    "\n",
    "    def __init__(self):\n",
    "        self.st = deque()\n",
    "        self.temp = deque()\n",
    "\n",
    "    def push(self, x: int) -> None:\n",
    "        self.st.append(x)\n",
    "        return\n",
    "\n",
    "    def pop(self) -> int:\n",
    "        while self.st:\n",
    "            self.temp.append(self.st.pop())\n",
    "        res = self.temp.pop()\n",
    "\n",
    "        while self.temp:\n",
    "            self.st.append(self.temp.pop())\n",
    "        return res\n",
    "\n",
    "    def peek(self) -> int:\n",
    "        while self.st:\n",
    "            self.temp.append(self.st.pop())\n",
    "        res = self.temp[-1]\n",
    "\n",
    "        while self.temp:\n",
    "            self.st.append(self.temp.pop())\n",
    "        return res\n",
    "        \n",
    "\n",
    "    def empty(self) -> bool:\n",
    "        if self.st:\n",
    "            return False\n",
    "        return True"
   ]
  },
  {
   "cell_type": "code",
   "execution_count": 15,
   "id": "afddece1-811a-441e-8e60-375d121cdcab",
   "metadata": {},
   "outputs": [],
   "source": [
    "## Reduced transfer between queues\n",
    "\n",
    "from collections import deque\n",
    "\n",
    "class MyQueue:\n",
    "\n",
    "    def __init__(self):\n",
    "        self.st = deque()\n",
    "        self.temp = deque()\n",
    "\n",
    "    def push(self, x: int) -> None:\n",
    "        if self.temp:\n",
    "            while self.temp:\n",
    "                self.st.append(self.temp.pop())\n",
    "        self.st.append(x)\n",
    "        return\n",
    "\n",
    "    def pop(self) -> int:\n",
    "        while self.st:\n",
    "            self.temp.append(self.st.pop())\n",
    "        return self.temp.pop()\n",
    "\n",
    "    def peek(self) -> int:\n",
    "        while self.st:\n",
    "            self.temp.append(self.st.pop())\n",
    "        return self.temp[-1]\n",
    "\n",
    "    def empty(self) -> bool:\n",
    "        if self.st or self.temp:\n",
    "            return False\n",
    "        return True\n",
    "        "
   ]
  },
  {
   "cell_type": "markdown",
   "id": "49fa10d0-f27e-4a3c-b038-6411106617d1",
   "metadata": {},
   "source": [
    "## 225: Implement Stack using Queues"
   ]
  },
  {
   "cell_type": "code",
   "execution_count": 16,
   "id": "bf2abdce-bda5-4d78-b1d3-c7fa299d1892",
   "metadata": {},
   "outputs": [],
   "source": [
    "from collections import deque\n",
    "\n",
    "class MyStack:\n",
    "\n",
    "    def __init__(self):\n",
    "        self.q = deque()\n",
    "        self.temp = deque()\n",
    "        \n",
    "\n",
    "    def push(self, x: int) -> None:\n",
    "        self.q.append(x)\n",
    "        return\n",
    "        \n",
    "\n",
    "    def pop(self) -> int:\n",
    "        res = None\n",
    "        while self.q:\n",
    "            res = self.q.popleft()\n",
    "            if self.q:\n",
    "                self.temp.append(res)\n",
    "\n",
    "        self.q, self.temp = self.temp, self.q\n",
    "        return res\n",
    "\n",
    "    def top(self) -> int:\n",
    "        res = self.pop()\n",
    "        self.push(res)\n",
    "        return res\n",
    "        \n",
    "\n",
    "    def empty(self) -> bool:\n",
    "        return not self.q"
   ]
  },
  {
   "cell_type": "markdown",
   "id": "87e68798-9c45-4d14-acb2-ee0cfe7b3bf1",
   "metadata": {},
   "source": [
    "## 20: Valid Parantheses"
   ]
  },
  {
   "cell_type": "code",
   "execution_count": 17,
   "id": "ca72b276-ce80-4ed7-8cfb-e79463f2be22",
   "metadata": {},
   "outputs": [],
   "source": [
    "from collections import deque\n",
    "\n",
    "class Solution:\n",
    "    def isValid(self, s: str) -> bool:\n",
    "        st = deque()\n",
    "        dc = {')':'(', '}':'{', ']':'['}\n",
    "\n",
    "\n",
    "        for c in s:\n",
    "            if c in dc.keys():\n",
    "                if not st or st.pop() != dc[c]:\n",
    "                    return False\n",
    "            else:\n",
    "                st.append(c)\n",
    "        \n",
    "        return True if len(st) == 0 else False"
   ]
  },
  {
   "cell_type": "markdown",
   "id": "a86265ad-c009-4acb-a0d8-db8aecd21306",
   "metadata": {},
   "source": [
    "## 1047: Remove All Adjacent Duplicates In String"
   ]
  },
  {
   "cell_type": "code",
   "execution_count": 18,
   "id": "6988a5fe-5076-437b-95ae-a4fab5455e7d",
   "metadata": {},
   "outputs": [],
   "source": [
    "class Solution:\n",
    "    def removeDuplicates(self, s: str) -> str:\n",
    "        ## Using list as a stack\n",
    "        l = []\n",
    "\n",
    "        for c in s:\n",
    "            if l and l[-1] == c:\n",
    "                l.pop()\n",
    "            else:\n",
    "                l.append(c)\n",
    "\n",
    "        return \"\".join(l)\n",
    "        "
   ]
  },
  {
   "cell_type": "markdown",
   "id": "f1fadb26-d1da-4302-b66a-b5afc68f0150",
   "metadata": {},
   "source": [
    "## 150: Evaluate Reverse Polish Notation"
   ]
  },
  {
   "cell_type": "code",
   "execution_count": 19,
   "id": "ee943a67-5300-4a41-ac48-013ca6782f8e",
   "metadata": {},
   "outputs": [],
   "source": [
    "class Solution:\n",
    "    def evalRPN(self, tokens: List[str]) -> int:\n",
    "        ops = [\"+\", \"-\", \"*\", \"/\"]\n",
    "        num_st = []\n",
    "        res = 0\n",
    "\n",
    "        for tk in tokens:\n",
    "            if tk == \"+\":\n",
    "                num1 = num_st.pop()\n",
    "                num2 = num_st.pop()\n",
    "                num_st.append(num1 + num2)\n",
    "            elif tk == \"-\":\n",
    "                num1 = num_st.pop()\n",
    "                num2 = num_st.pop()\n",
    "                num_st.append(num2 - num1)\n",
    "            elif tk == \"*\":\n",
    "                num1 = num_st.pop()\n",
    "                num2 = num_st.pop()\n",
    "                num_st.append(num1*num2)\n",
    "            elif tk == \"/\":\n",
    "                num1 = num_st.pop()\n",
    "                num2 = num_st.pop()\n",
    "                num_st.append(int(num2/num1))\n",
    "            else:\n",
    "                num_st.append(int(tk))\n",
    "\n",
    "        return num_st.pop()"
   ]
  },
  {
   "cell_type": "markdown",
   "id": "daae7833-7616-4260-abed-82ddc195b40a",
   "metadata": {},
   "source": [
    "## 239: Sliding Window Maximum"
   ]
  },
  {
   "cell_type": "code",
   "execution_count": null,
   "id": "62ca2794-d8e3-4898-b50b-a6b009c24be3",
   "metadata": {},
   "outputs": [],
   "source": [
    "## Brute force - Complexity O(n^2)\n",
    "\n",
    "class Solution:\n",
    "    def maxSlidingWindow(self, nums: List[int], k: int) -> List[int]:\n",
    "        res = []\n",
    "        for i in range(len(nums) - k + 1):\n",
    "            res.append(max(nums[i:i + k]))\n",
    "        return res"
   ]
  },
  {
   "cell_type": "code",
   "execution_count": null,
   "id": "18d99cfb-690e-4013-a566-b3b50988dd27",
   "metadata": {},
   "outputs": [],
   "source": [
    "## Using Monotone deques - Complexity O(n)\n",
    "## TODO: Make a note about the logic\n",
    "\n",
    "from collections import deque\n",
    "\n",
    "class Solution:\n",
    "    def maxSlidingWindow(self, nums: List[int], k: int) -> List[int]:\n",
    "        dq = deque()\n",
    "        res = []\n",
    "\n",
    "        for i in range(k):\n",
    "            while dq and nums[dq[-1]] <= nums[i]:\n",
    "                dq.pop()\n",
    "            dq.append(i)\n",
    "        \n",
    "        res.append(nums[dq[0]])\n",
    "\n",
    "        for i in range(k, len(nums)):\n",
    "            if dq[0] == i - k:\n",
    "                dq.popleft()\n",
    "\n",
    "            while dq and nums[dq[-1]] <= nums[i]:\n",
    "                dq.pop()\n",
    "            dq.append(i)\n",
    "\n",
    "            res.append(nums[dq[0]])\n",
    "\n",
    "        return res"
   ]
  },
  {
   "cell_type": "markdown",
   "id": "5690d2fd-ccec-4d8a-8cc9-8bd75c7e0091",
   "metadata": {},
   "source": [
    "## 347: Top K Frequent Elements"
   ]
  },
  {
   "cell_type": "code",
   "execution_count": null,
   "id": "cc5a74a0-d881-4a9b-b6af-7e8437a89d79",
   "metadata": {},
   "outputs": [],
   "source": [
    "## Brute force - O(n logn)\n",
    "\n",
    "class Solution:\n",
    "    def topKFrequent(self, nums: List[int], k: int) -> List[int]:\n",
    "        nums.sort()\n",
    "\n",
    "        res = [nums[0]]\n",
    "        prev = nums[0]\n",
    "        idx = 0\n",
    "\n",
    "        while len(res) < k:\n",
    "            idx += 1\n",
    "            if nums[idx] != prev:\n",
    "                res.append(nums[idx])\n",
    "                prev = nums[idx]\n",
    "\n",
    "        return res"
   ]
  },
  {
   "cell_type": "code",
   "execution_count": null,
   "id": "500ce790-68b6-4b07-a52d-649d88cb08df",
   "metadata": {},
   "outputs": [],
   "source": [
    "## Using heapq and counters - Complexity O(n logk)\n",
    "## Using max heap\n",
    "\n",
    "from collections import Counter\n",
    "from heapq import heappush, heappop\n",
    "\n",
    "class Solution:\n",
    "    def topKFrequent(self, nums: List[int], k: int) -> List[int]:\n",
    "\n",
    "        ct = Counter(nums)\n",
    "        hp = []\n",
    "\n",
    "        for ky in ct.keys():\n",
    "            heappush(hp, (-ct[ky], ky))\n",
    "\n",
    "        res = []\n",
    "        for i in range(k):\n",
    "            temp = heappop(hp)\n",
    "            res.append(temp[1])\n",
    "\n",
    "        return res"
   ]
  },
  {
   "cell_type": "code",
   "execution_count": null,
   "id": "371904da-da4f-46a4-900d-5d79cbb1a1dc",
   "metadata": {},
   "outputs": [],
   "source": [
    "## Using heapq and counters - Complexity O(n logk)\n",
    "## Using min heap\n",
    "\n",
    "from collections import Counter\n",
    "from heapq import heappush, heappop\n",
    "\n",
    "class Solution:\n",
    "    def topKFrequent(self, nums: List[int], k: int) -> List[int]:\n",
    "\n",
    "        ct = Counter(nums)\n",
    "        hp = []\n",
    "\n",
    "        for ky in ct.keys():\n",
    "            heappush(hp, (ct[ky], ky))\n",
    "            if len(hp) > k:\n",
    "                heappop(hp)\n",
    "\n",
    "        res = []\n",
    "        for i in range(k):\n",
    "            temp = heappop(hp)\n",
    "            res.append(temp[1])\n",
    "\n",
    "        return res"
   ]
  },
  {
   "cell_type": "code",
   "execution_count": null,
   "id": "3be94ded-2322-461b-b796-0a466acefc94",
   "metadata": {},
   "outputs": [],
   "source": []
  },
  {
   "cell_type": "code",
   "execution_count": null,
   "id": "89580478-3aa9-43eb-8b0b-2f159af6a8b9",
   "metadata": {},
   "outputs": [],
   "source": []
  },
  {
   "cell_type": "code",
   "execution_count": null,
   "id": "47b72807-58bb-40de-8004-eff3d6de63ed",
   "metadata": {},
   "outputs": [],
   "source": []
  },
  {
   "cell_type": "code",
   "execution_count": null,
   "id": "6c8396c3-7e8e-4d5f-bebc-d12b428c2123",
   "metadata": {},
   "outputs": [],
   "source": []
  }
 ],
 "metadata": {
  "kernelspec": {
   "display_name": "Python 3 (ipykernel)",
   "language": "python",
   "name": "python3"
  },
  "language_info": {
   "codemirror_mode": {
    "name": "ipython",
    "version": 3
   },
   "file_extension": ".py",
   "mimetype": "text/x-python",
   "name": "python",
   "nbconvert_exporter": "python",
   "pygments_lexer": "ipython3",
   "version": "3.8.20"
  }
 },
 "nbformat": 4,
 "nbformat_minor": 5
}
