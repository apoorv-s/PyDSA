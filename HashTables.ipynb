{
 "cells": [
  {
   "cell_type": "code",
   "execution_count": 3,
   "id": "4f53af3f",
   "metadata": {},
   "outputs": [],
   "source": [
    "from typing import List"
   ]
  },
  {
   "cell_type": "markdown",
   "id": "c31e171d",
   "metadata": {
    "jp-MarkdownHeadingCollapsed": true
   },
   "source": [
    "## 242: Valid Anagrams"
   ]
  },
  {
   "cell_type": "code",
   "execution_count": 4,
   "id": "c6c062bc",
   "metadata": {},
   "outputs": [],
   "source": [
    "## Using default dicts\n",
    "## O(n) time, O(1) space (only requires space for 26 chatacters)\n",
    "\n",
    "from collections import defaultdict\n",
    "\n",
    "class Solution:\n",
    "    def isAnagram(self, s: str, t: str) -> bool:\n",
    "        \n",
    "        if len(s) != len(t):\n",
    "            return False\n",
    "\n",
    "        dd = defaultdict(int)\n",
    "\n",
    "        for c in s:\n",
    "            dd[c] += 1\n",
    "\n",
    "        for c in t:\n",
    "            dd[c] -= 1\n",
    "            if dd[c] < 0:\n",
    "                return False\n",
    "\n",
    "        return True"
   ]
  },
  {
   "cell_type": "code",
   "execution_count": 5,
   "id": "61a98a43",
   "metadata": {},
   "outputs": [],
   "source": [
    "## Using counters\n",
    "# Can use string count method as well\n",
    "\n",
    "from collections import Counter\n",
    "\n",
    "class Solution:\n",
    "    def isAnagram(self, s: str, t: str) -> bool:\n",
    "\n",
    "        c_s = Counter(s)\n",
    "        c_t = Counter(t)\n",
    "\n",
    "        return c_s == c_t"
   ]
  },
  {
   "cell_type": "markdown",
   "id": "a5b159a7",
   "metadata": {
    "jp-MarkdownHeadingCollapsed": true
   },
   "source": [
    "## 1002. Find Common Characters\n",
    "\n",
    "#### Important Note: Using arrays as hashtables in other languages"
   ]
  },
  {
   "cell_type": "code",
   "execution_count": 6,
   "id": "d4927d34",
   "metadata": {},
   "outputs": [],
   "source": [
    "## Using sets and counters\n",
    "\n",
    "from collections import Counter\n",
    "\n",
    "class Solution:\n",
    "    def commonChars(self, words: List[str]) -> List[str]:\n",
    "\n",
    "        ct = Counter(words[0])\n",
    "        st = set(words[0])\n",
    "        for word in words[1:]:\n",
    "            st = st.intersection(set(word))\n",
    "            for c in st:\n",
    "                ct[c] = min(ct[c], word.count(c))\n",
    "        \n",
    "        res = []\n",
    "        for k in st:\n",
    "            res += [k]*ct[k]\n",
    "        \n",
    "        return res"
   ]
  },
  {
   "cell_type": "code",
   "execution_count": 7,
   "id": "8d9489d3",
   "metadata": {},
   "outputs": [],
   "source": [
    "## using builtin Counter intersection and enumeration functions\n",
    "\n",
    "from collections import Counter\n",
    "\n",
    "class Solution:\n",
    "    def commonChars(self, words: List[str]) -> List[str]:\n",
    "        ct = Counter(words[0])\n",
    "\n",
    "        for word in words[1:]:\n",
    "            ct = ct & Counter(word)\n",
    "\n",
    "        return list(ct.elements())"
   ]
  },
  {
   "cell_type": "markdown",
   "id": "043f4602",
   "metadata": {
    "jp-MarkdownHeadingCollapsed": true
   },
   "source": [
    "## 349: Intersection of Two Arrays"
   ]
  },
  {
   "cell_type": "code",
   "execution_count": 8,
   "id": "3f41baa0",
   "metadata": {},
   "outputs": [],
   "source": [
    "## Time and space complexity : O(m + n)\n",
    "\n",
    "class Solution:\n",
    "    def intersection(self, nums1: List[int], nums2: List[int]) -> List[int]:\n",
    "        return list(set(nums1) & set(nums2))"
   ]
  },
  {
   "cell_type": "code",
   "execution_count": 9,
   "id": "479c24d7",
   "metadata": {},
   "outputs": [],
   "source": [
    "## Can reduce the space complexity by checking nums2 elements one at a time"
   ]
  },
  {
   "cell_type": "markdown",
   "id": "284b852a",
   "metadata": {
    "jp-MarkdownHeadingCollapsed": true
   },
   "source": [
    "## 202: Happy Numbers\n",
    "\n",
    "\n",
    "#### TODO: Analysis of complexity"
   ]
  },
  {
   "cell_type": "code",
   "execution_count": 10,
   "id": "9d3a367e",
   "metadata": {},
   "outputs": [],
   "source": [
    "## Using sets to track the visited numbers\n",
    "## Time and space complexity: O(log n)\n",
    "\n",
    "class Solution:\n",
    "    def isHappy(self, n: int) -> bool:\n",
    "        visited = set()\n",
    "        curr = n\n",
    "\n",
    "        while curr not in visited:\n",
    "            visited.add(curr)\n",
    "            temp = 0\n",
    "            while curr > 0:\n",
    "                x = curr % 10\n",
    "                curr = curr // 10\n",
    "                temp += x*x\n",
    "\n",
    "            if temp == 1:\n",
    "                return True\n",
    "            \n",
    "            curr = temp\n",
    "        \n",
    "        return False"
   ]
  },
  {
   "cell_type": "code",
   "execution_count": 11,
   "id": "91ec884e",
   "metadata": {},
   "outputs": [],
   "source": [
    "## Sum using strings\n",
    "## Time complexity O(1), space complexity O(n) ??\n",
    "\n",
    "class Solution:\n",
    "    def isHappy(self, n: int) -> bool:\n",
    "        visited = set()\n",
    "        curr = n\n",
    "\n",
    "        while curr not in visited:\n",
    "            visited.add(curr)\n",
    "            temp = sum([int(i)*int(i) for i in str(curr)])\n",
    "            if temp == 1:\n",
    "                return True\n",
    "            curr = temp\n",
    "        \n",
    "        return False"
   ]
  },
  {
   "cell_type": "markdown",
   "id": "90f07b28",
   "metadata": {
    "jp-MarkdownHeadingCollapsed": true
   },
   "source": [
    "## 1: Two Sum"
   ]
  },
  {
   "cell_type": "code",
   "execution_count": 12,
   "id": "25d3376f",
   "metadata": {},
   "outputs": [],
   "source": [
    "## Using dictionary to track the numbers\n",
    "## Time complexity : O(n)\n",
    "\n",
    "class Solution:\n",
    "    def twoSum(self, nums: List[int], target: int) -> List[int]:\n",
    "        d = {}\n",
    "\n",
    "        for i in range(len(nums)):\n",
    "            diff = target - nums[i]\n",
    "            if diff in d:\n",
    "                break\n",
    "            d[nums[i]] = i\n",
    "\n",
    "        return [i, d[diff]]"
   ]
  },
  {
   "cell_type": "code",
   "execution_count": null,
   "id": "b100b677",
   "metadata": {},
   "outputs": [],
   "source": [
    "## Using double pointer with sorted dictionary"
   ]
  },
  {
   "cell_type": "markdown",
   "id": "eebe0ab0",
   "metadata": {
    "jp-MarkdownHeadingCollapsed": true
   },
   "source": [
    "## 454: 4Sum II"
   ]
  },
  {
   "cell_type": "code",
   "execution_count": null,
   "id": "0ddc3cc7",
   "metadata": {},
   "outputs": [],
   "source": [
    "## Using dictionaries: time and space complexity O(n^2)\n",
    "\n",
    "from collections import defaultdict\n",
    "class Solution:\n",
    "    def fourSumCount(self, nums1: List[int], nums2: List[int], nums3: List[int], nums4: List[int]) -> int:\n",
    "        dc_1 = defaultdict(int)\n",
    "        dc_2 = defaultdict(int)\n",
    "\n",
    "        for i in range(len(nums1)):\n",
    "            for j in range(len(nums2)):\n",
    "                dc_1[nums1[i] + nums2[j]] += 1\n",
    "\n",
    "        for i in range(len(nums3)):\n",
    "            for j in range(len(nums4)):\n",
    "                dc_2[nums3[i] + nums4[j]] += 1\n",
    "\n",
    "\n",
    "        res = 0\n",
    "        for k in dc_1.keys():\n",
    "            if -k in dc_2:\n",
    "                res += dc_1[k]*dc_2[-k]\n",
    "                \n",
    "        return res"
   ]
  },
  {
   "cell_type": "code",
   "execution_count": null,
   "id": "a1caa39a",
   "metadata": {},
   "outputs": [],
   "source": [
    "## Simplified\n",
    "\n",
    "from collections import defaultdict\n",
    "class Solution:\n",
    "    def fourSumCount(self, nums1: List[int], nums2: List[int], nums3: List[int], nums4: List[int]) -> int:\n",
    "        dc_1 = defaultdict(int)\n",
    "        for i in range(len(nums1)):\n",
    "            for j in range(len(nums2)):\n",
    "                dc_1[nums1[i] + nums2[j]] += 1\n",
    "\n",
    "        res = 0\n",
    "        for i in range(len(nums3)):\n",
    "            for j in range(len(nums4)):\n",
    "                diff = - nums3[i] - nums4[j]\n",
    "                if diff in dc_1:\n",
    "                    res += dc_1[diff]\n",
    "                \n",
    "        return res"
   ]
  },
  {
   "cell_type": "markdown",
   "id": "93c5ae1d",
   "metadata": {},
   "source": [
    "## 15: 3Sum"
   ]
  },
  {
   "cell_type": "code",
   "execution_count": null,
   "id": "c61baf60",
   "metadata": {},
   "outputs": [],
   "source": [
    "## Brute Force: O(n^3)\n",
    "\n",
    "class Solution:\n",
    "    def threeSum(self, nums: List[int]) -> List[List[int]]:\n",
    "        nums.sort()\n",
    "        res = set() \n",
    "        n = len(nums)\n",
    "\n",
    "        for i in range(n - 2):\n",
    "            for j in range(i + 1, n - 1):\n",
    "                for k in range(j + 1, n):\n",
    "                    if nums[i] + nums[j] + nums[k] == 0:\n",
    "                        res.add((nums[i], nums[j], nums[k]))\n",
    "\n",
    "        \n",
    "        return [list(r) for r in res]"
   ]
  },
  {
   "cell_type": "code",
   "execution_count": null,
   "id": "cb107460",
   "metadata": {},
   "outputs": [],
   "source": [
    "## Same logic - Still O(n^3) TLE\n",
    "\n",
    "class Solution:\n",
    "    def threeSum(self, nums: List[int]) -> List[List[int]]:\n",
    "        nums.sort()\n",
    "        res = set()\n",
    "        n = len(nums)\n",
    "\n",
    "        for i in range(n - 2):\n",
    "            for j in range(i + 1, n - 1):\n",
    "                diff = (nums[i] + nums[j])\n",
    "                end = n - 1\n",
    "                while end > j:\n",
    "                    if diff + nums[end] == 0:\n",
    "                        res.add((nums[i], nums[j], nums[end]))\n",
    "                        break\n",
    "                    elif diff + nums[end] > 0:\n",
    "                        end -= 1\n",
    "                    else:\n",
    "                        break\n",
    "\n",
    "        \n",
    "        return [list(r) for r in res]"
   ]
  },
  {
   "cell_type": "code",
   "execution_count": null,
   "id": "e8a1312d",
   "metadata": {},
   "outputs": [],
   "source": [
    "## Using double pointers - O(n^2)\n",
    "\n",
    "class Solution:\n",
    "    def threeSum(self, nums: List[int]) -> List[List[int]]:\n",
    "        nums.sort()\n",
    "        res = []\n",
    "        n = len(nums)\n",
    "\n",
    "        for i in range(n - 2):\n",
    "            if nums[i] > 0:\n",
    "                return res\n",
    "\n",
    "            if i > 0 and nums[i] == nums[i - 1]:\n",
    "                continue\n",
    "\n",
    "            left = i + 1\n",
    "            right = n - 1\n",
    "\n",
    "            while left < right:\n",
    "                s = nums[i] + nums[left] + nums[right]\n",
    "                if s < 0:\n",
    "                    left += 1\n",
    "                elif s > 0:\n",
    "                    right -= 1\n",
    "                else:\n",
    "                    res.append([nums[i], nums[left], nums[right]])\n",
    "\n",
    "                    left += 1\n",
    "                    right -= 1\n",
    "\n",
    "                    while nums[left] == nums[left - 1] and left < right:\n",
    "                        left += 1\n",
    "                    \n",
    "                    while nums[right] == nums[right + 1] and left < right:\n",
    "                        right -= 1\n",
    "\n",
    "        return res"
   ]
  },
  {
   "cell_type": "markdown",
   "id": "2f037048",
   "metadata": {},
   "source": [
    "## 18: 4Sum"
   ]
  },
  {
   "cell_type": "code",
   "execution_count": null,
   "id": "5841f15f",
   "metadata": {},
   "outputs": [],
   "source": [
    "## Double pointer - similar to 3Sum - O(n^3)\n",
    "\n",
    "class Solution:\n",
    "    def fourSum(self, nums: List[int], target: int) -> List[List[int]]:\n",
    "        n = len(nums)\n",
    "        res = []\n",
    "        nums.sort()\n",
    "\n",
    "        for i in range(n - 3):\n",
    "            if 4*nums[i] > target:\n",
    "                return res\n",
    "\n",
    "            if i > 0 and nums[i] == nums[i - 1]:\n",
    "                continue\n",
    "\n",
    "            for j in range(i + 1, n - 2):\n",
    "                if nums[i] + nums[j]*3 > target:\n",
    "                    break\n",
    "                \n",
    "                if j > i + 1 and nums[j] == nums[j - 1]:\n",
    "                    continue\n",
    "\n",
    "                left = j + 1\n",
    "                right = n - 1\n",
    "\n",
    "                while left < right:\n",
    "                    s = nums[i] + nums[j] + nums[left] + nums[right]\n",
    "\n",
    "                    if s == target:\n",
    "                        res.append([nums[i], nums[j], nums[left], nums[right]])\n",
    "\n",
    "                        left += 1\n",
    "                        right -= 1\n",
    "\n",
    "                        while nums[left] == nums[left - 1] and left < right:\n",
    "                            left += 1\n",
    "\n",
    "                        while nums[right] == nums[right + 1] and left < right:\n",
    "                            right -= 1\n",
    "\n",
    "                    elif s < target:\n",
    "                        left += 1\n",
    "                    else:\n",
    "                        right -= 1\n",
    "\n",
    "        return res"
   ]
  },
  {
   "cell_type": "code",
   "execution_count": null,
   "id": "a5386cd9",
   "metadata": {},
   "outputs": [],
   "source": []
  },
  {
   "cell_type": "code",
   "execution_count": null,
   "id": "b72c2de4",
   "metadata": {},
   "outputs": [],
   "source": []
  },
  {
   "cell_type": "code",
   "execution_count": null,
   "id": "b57a45ef",
   "metadata": {},
   "outputs": [],
   "source": []
  },
  {
   "cell_type": "code",
   "execution_count": null,
   "id": "c51d1827",
   "metadata": {},
   "outputs": [],
   "source": []
  },
  {
   "cell_type": "code",
   "execution_count": null,
   "id": "19a27153",
   "metadata": {},
   "outputs": [],
   "source": []
  },
  {
   "cell_type": "code",
   "execution_count": null,
   "id": "1e3c15a2",
   "metadata": {},
   "outputs": [],
   "source": []
  },
  {
   "cell_type": "code",
   "execution_count": null,
   "id": "b9c4b6bb",
   "metadata": {},
   "outputs": [],
   "source": []
  },
  {
   "cell_type": "code",
   "execution_count": null,
   "id": "3433f51e",
   "metadata": {},
   "outputs": [],
   "source": []
  },
  {
   "cell_type": "code",
   "execution_count": null,
   "id": "cc6d5e16",
   "metadata": {},
   "outputs": [],
   "source": []
  },
  {
   "cell_type": "code",
   "execution_count": null,
   "id": "144f310e",
   "metadata": {},
   "outputs": [],
   "source": []
  },
  {
   "cell_type": "code",
   "execution_count": null,
   "id": "7c9501c3",
   "metadata": {},
   "outputs": [],
   "source": []
  },
  {
   "cell_type": "code",
   "execution_count": null,
   "id": "5aa08b26",
   "metadata": {},
   "outputs": [],
   "source": []
  },
  {
   "cell_type": "code",
   "execution_count": null,
   "id": "fffbacc4",
   "metadata": {},
   "outputs": [],
   "source": []
  },
  {
   "cell_type": "code",
   "execution_count": null,
   "id": "b0455c98",
   "metadata": {},
   "outputs": [],
   "source": []
  }
 ],
 "metadata": {
  "kernelspec": {
   "display_name": "Python 3 (ipykernel)",
   "language": "python",
   "name": "python3"
  },
  "language_info": {
   "codemirror_mode": {
    "name": "ipython",
    "version": 3
   },
   "file_extension": ".py",
   "mimetype": "text/x-python",
   "name": "python",
   "nbconvert_exporter": "python",
   "pygments_lexer": "ipython3",
   "version": "3.8.20"
  }
 },
 "nbformat": 4,
 "nbformat_minor": 5
}
