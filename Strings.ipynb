{
 "cells": [
  {
   "cell_type": "code",
   "execution_count": 1,
   "id": "32b46d13",
   "metadata": {},
   "outputs": [],
   "source": [
    "from typing import List"
   ]
  },
  {
   "cell_type": "markdown",
   "id": "f3700ba2",
   "metadata": {
    "jp-MarkdownHeadingCollapsed": true
   },
   "source": [
    "## 344: Reverse String"
   ]
  },
  {
   "cell_type": "code",
   "execution_count": 2,
   "id": "b11edeb9",
   "metadata": {},
   "outputs": [],
   "source": [
    "class Solution:\n",
    "    def reverseString(self, s: List[str]) -> None:\n",
    "        \"\"\"\n",
    "        Do not return anything, modify s in-place instead.\n",
    "        \"\"\"\n",
    "        n = len(s)\n",
    "        for i in range(n//2):\n",
    "            s[i], s[n - 1 - i] = s[n - 1 - i], s[i]\n",
    "\n",
    "        return"
   ]
  },
  {
   "cell_type": "markdown",
   "id": "123ac3dc",
   "metadata": {
    "jp-MarkdownHeadingCollapsed": true
   },
   "source": [
    "## 541: Reverse String II"
   ]
  },
  {
   "cell_type": "code",
   "execution_count": null,
   "id": "e1f402d8",
   "metadata": {},
   "outputs": [],
   "source": [
    "class Solution:\n",
    "    def reverseStr(self, s: str, k: int) -> str:\n",
    "        n = len(s)\n",
    "        \n",
    "        n_f = n // (2*k)\n",
    "        s = list(s)\n",
    "\n",
    "        for i in range(n_f):\n",
    "            start = 2*i*k\n",
    "            end = start + k - 1\n",
    "            while start < end:\n",
    "                s[start], s[end] = s[end], s[start]\n",
    "                start += 1\n",
    "                end -= 1\n",
    "        \n",
    "        start = 2*n_f*k\n",
    "        end = start + min(k, n - start) - 1\n",
    "\n",
    "        while start < end:\n",
    "            s[start], s[end] = s[end], s[start]\n",
    "            start += 1\n",
    "            end -= 1\n",
    "\n",
    "        return \"\".join(s)"
   ]
  },
  {
   "cell_type": "code",
   "execution_count": null,
   "id": "15dbe808",
   "metadata": {},
   "outputs": [],
   "source": [
    "## Using list/string indexing\n",
    "## res[:p], p > len(res) returns res, same for string\n",
    "## res[p:], p > len(res) returns [], same for string\n",
    "\n",
    "class Solution:\n",
    "    def reverseStr(self, s: str, k: int) -> str:\n",
    "\n",
    "        res = list(s)\n",
    "        n = len(res)\n",
    "\n",
    "        for i in range(0, n, 2*k):\n",
    "            res = res[:i] + res[i:i + k][::-1] + res[i + k:]\n",
    "\n",
    "        return \"\".join(res)"
   ]
  },
  {
   "cell_type": "markdown",
   "id": "8c9ec7ea",
   "metadata": {},
   "source": [
    "## 151: Reverse Words in a String"
   ]
  },
  {
   "cell_type": "code",
   "execution_count": 4,
   "id": "8c128fd7",
   "metadata": {},
   "outputs": [],
   "source": [
    "## Space complexity is O(n) since strings are immutable\n",
    "## Main idea is to not use split and instead manually split and reverse the string and words ## TODO\n",
    "\n",
    "\n",
    "class Solution:\n",
    "    def reverseWords(self, s: str) -> str:\n",
    "        return \" \".join(s.split()[::-1])"
   ]
  },
  {
   "cell_type": "code",
   "execution_count": 1,
   "id": "5647deb5",
   "metadata": {},
   "outputs": [],
   "source": [
    "## TODO: Without using split function"
   ]
  },
  {
   "cell_type": "markdown",
   "id": "c9c88d81",
   "metadata": {},
   "source": [
    "## 28: Find the Index of the First Occurrence in a String"
   ]
  },
  {
   "cell_type": "code",
   "execution_count": 5,
   "id": "ba96275d",
   "metadata": {},
   "outputs": [],
   "source": [
    "## Using a two pointer approach similar to that in pattern matching\n",
    "\n",
    "class Solution:\n",
    "    def strStr(self, haystack: str, needle: str) -> int:\n",
    "        p1 = 0\n",
    "        p2 = 0\n",
    "        start = None\n",
    "\n",
    "        while p1 < len(haystack) and p2 < len(needle):\n",
    "            if haystack[p1] == needle[p2]:\n",
    "                if start is None:\n",
    "                    start = p1\n",
    "                \n",
    "                p1 += 1\n",
    "                p2 += 1\n",
    "            else:\n",
    "                if start is not None:\n",
    "                    p1 = start + 1\n",
    "                else:\n",
    "                    p1 += 1\n",
    "\n",
    "                p2 = 0\n",
    "                start = None\n",
    "                \n",
    "        return start if p2 == len(needle) else -1"
   ]
  },
  {
   "cell_type": "code",
   "execution_count": 6,
   "id": "d02d7dca",
   "metadata": {},
   "outputs": [],
   "source": [
    "### KMP Algorithm : TODO"
   ]
  },
  {
   "cell_type": "markdown",
   "id": "698f5ca7",
   "metadata": {},
   "source": [
    "## 459: Repeated Substring Pattern"
   ]
  },
  {
   "cell_type": "code",
   "execution_count": null,
   "id": "abaaf391",
   "metadata": {},
   "outputs": [],
   "source": [
    "## Brute force solution:\n",
    "\n",
    "class Solution:\n",
    "    def repeatedSubstringPattern(self, s: str) -> bool:\n",
    "\n",
    "        for i in range(1, len(s)//2 + 1):\n",
    "            if len(s) % i == 0:\n",
    "                if s[:i]*(len(s) // i) == s:\n",
    "                    return True\n",
    "\n",
    "        return False"
   ]
  },
  {
   "cell_type": "code",
   "execution_count": 2,
   "id": "ce6b9392",
   "metadata": {},
   "outputs": [],
   "source": [
    "### Mobile Matching and KMP : TODO"
   ]
  },
  {
   "cell_type": "code",
   "execution_count": null,
   "id": "4efe5c1a",
   "metadata": {},
   "outputs": [],
   "source": []
  },
  {
   "cell_type": "code",
   "execution_count": null,
   "id": "01133c3b",
   "metadata": {},
   "outputs": [],
   "source": []
  },
  {
   "cell_type": "code",
   "execution_count": null,
   "id": "c8b7e23d",
   "metadata": {},
   "outputs": [],
   "source": []
  }
 ],
 "metadata": {
  "kernelspec": {
   "display_name": "Python 3 (ipykernel)",
   "language": "python",
   "name": "python3"
  },
  "language_info": {
   "codemirror_mode": {
    "name": "ipython",
    "version": 3
   },
   "file_extension": ".py",
   "mimetype": "text/x-python",
   "name": "python",
   "nbconvert_exporter": "python",
   "pygments_lexer": "ipython3",
   "version": "3.8.20"
  }
 },
 "nbformat": 4,
 "nbformat_minor": 5
}
