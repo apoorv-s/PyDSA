{
 "cells": [
  {
   "cell_type": "code",
   "execution_count": 8,
   "id": "254fb677",
   "metadata": {},
   "outputs": [],
   "source": [
    "from typing import List, Optional"
   ]
  },
  {
   "cell_type": "code",
   "execution_count": 9,
   "id": "3e0aa05b",
   "metadata": {},
   "outputs": [],
   "source": [
    "## Definition for singly-linked list.\n",
    "class ListNode:\n",
    "    def __init__(self, val=0, next=None):\n",
    "        self.val = val\n",
    "        self.next = next"
   ]
  },
  {
   "cell_type": "markdown",
   "id": "9c0269b1",
   "metadata": {},
   "source": [
    "## 203: Remove Linked List elements"
   ]
  },
  {
   "cell_type": "code",
   "execution_count": 10,
   "id": "7d6414ec",
   "metadata": {},
   "outputs": [],
   "source": [
    "## Using separate logic to remove the head node\n",
    "\n",
    "class Solution:\n",
    "    def removeElements(self, head: Optional[ListNode], val: int) -> Optional[ListNode]:\n",
    "        res = None\n",
    "        while head:\n",
    "            if head.val != val:\n",
    "                res = head\n",
    "                break\n",
    "            head = head.next\n",
    "        \n",
    "        curr = res\n",
    "        \n",
    "        while curr and curr.next:\n",
    "            if curr.next.val == val:\n",
    "                curr.next = curr.next.next\n",
    "            else:\n",
    "                curr = curr.next\n",
    "                \n",
    "        return res"
   ]
  },
  {
   "cell_type": "code",
   "execution_count": 11,
   "id": "af51d611",
   "metadata": {},
   "outputs": [],
   "source": [
    "## Unified logic with dummy node to handle the head node\n",
    "\n",
    "class Solution:\n",
    "    def removeElements(self, head: Optional[ListNode], val: int) -> Optional[ListNode]:\n",
    "        res = ListNode(0, head)\n",
    "        curr = res\n",
    "        \n",
    "        while curr.next:\n",
    "            if curr.next.val == val:\n",
    "                curr.next = curr.next.next\n",
    "            else:\n",
    "                curr = curr.next\n",
    "                \n",
    "        return res.next"
   ]
  },
  {
   "cell_type": "markdown",
   "id": "ebfb5c40",
   "metadata": {},
   "source": [
    "## 707: Designing Linked Lists"
   ]
  },
  {
   "cell_type": "code",
   "execution_count": 12,
   "id": "ef232f95",
   "metadata": {},
   "outputs": [],
   "source": [
    "# Without a dummy head node\n",
    "\n",
    "class MyLinkedList:\n",
    "\n",
    "    def __init__(self, val = -1, next = None):\n",
    "        self.val = val\n",
    "        self.next = next\n",
    "\n",
    "    def get(self, index: int) -> int:\n",
    "        curr = self\n",
    "        for i in range(index):\n",
    "            curr = curr.next\n",
    "            if not curr:\n",
    "                return -1\n",
    "\n",
    "        return curr.val\n",
    "        \n",
    "\n",
    "    def addAtHead(self, val: int) -> None:\n",
    "        if self.val == -1:\n",
    "            self.val = val\n",
    "            return\n",
    "        \n",
    "        temp_val = self.val\n",
    "        self.val = val\n",
    "        self.next = MyLinkedList(temp_val, self.next)\n",
    "        return\n",
    "        \n",
    "\n",
    "    def addAtTail(self, val: int) -> None:\n",
    "        if self.val == -1:\n",
    "            self.val = val\n",
    "            return\n",
    "\n",
    "        curr = self\n",
    "        while curr.next:\n",
    "            curr = curr.next\n",
    "        curr.next = MyLinkedList(val, None)\n",
    "        return\n",
    "        \n",
    "\n",
    "    def addAtIndex(self, index: int, val: int) -> None:\n",
    "        if index == 0:\n",
    "            self.addAtHead(val)\n",
    "            return\n",
    "\n",
    "        if self.val == -1:\n",
    "            return\n",
    "\n",
    "        curr = self\n",
    "        for i in range(index - 1):\n",
    "            curr = curr.next\n",
    "            if not curr:\n",
    "                return\n",
    "\n",
    "        curr.next = MyLinkedList(val, curr.next)\n",
    "        return\n",
    "\n",
    "    def deleteAtIndex(self, index: int) -> None:\n",
    "        if index == 0:\n",
    "            if self.next:\n",
    "                self.val = self.next.val\n",
    "                self.next = self.next.next\n",
    "            else:\n",
    "                self.val = -1\n",
    "        \n",
    "        curr = self\n",
    "\n",
    "        for i in range(index - 1):\n",
    "            curr = curr.next\n",
    "            if not curr:\n",
    "                return\n",
    "\n",
    "        if curr.next:\n",
    "            curr.next = curr.next.next\n",
    "        \n",
    "        return"
   ]
  },
  {
   "cell_type": "code",
   "execution_count": 13,
   "id": "dfe2a456",
   "metadata": {},
   "outputs": [],
   "source": [
    "# With a dummy head node #TODO"
   ]
  },
  {
   "cell_type": "code",
   "execution_count": 14,
   "id": "f1ea261c",
   "metadata": {},
   "outputs": [],
   "source": [
    "# Doubly linked List # TODO"
   ]
  },
  {
   "cell_type": "markdown",
   "id": "71425381",
   "metadata": {},
   "source": [
    "## 206: Reversing a linked list"
   ]
  },
  {
   "cell_type": "code",
   "execution_count": 15,
   "id": "6e576f14",
   "metadata": {},
   "outputs": [],
   "source": [
    "## Brute Force\n",
    "\n",
    "class Solution:\n",
    "    def reverseList(self, head: Optional[ListNode]) -> Optional[ListNode]:\n",
    "        temp = []\n",
    "        curr = head\n",
    "        while curr:\n",
    "            temp.append(curr.val)\n",
    "            curr = curr.next\n",
    "            \n",
    "        i = len(temp) - 1\n",
    "        curr = head\n",
    "        while curr:\n",
    "            curr.val = temp[i]\n",
    "            i -= 1\n",
    "            curr = curr.next\n",
    "            \n",
    "        return head\n"
   ]
  },
  {
   "cell_type": "code",
   "execution_count": 16,
   "id": "5d2ba771",
   "metadata": {},
   "outputs": [],
   "source": [
    "## Rearranging connection\n",
    "\n",
    "class Solution:\n",
    "    def reverseList(self, head: Optional[ListNode]) -> Optional[ListNode]:\n",
    "        if not head:\n",
    "            return head\n",
    "        \n",
    "        prev = None\n",
    "        curr = head\n",
    "        temp = curr.next\n",
    "        curr.next = None\n",
    "        \n",
    "        while temp:\n",
    "            prev = curr\n",
    "            curr = temp\n",
    "            temp = curr.next\n",
    "            curr.next = prev\n",
    "        \n",
    "        return curr"
   ]
  },
  {
   "cell_type": "code",
   "execution_count": 18,
   "id": "9bcb2a39",
   "metadata": {},
   "outputs": [],
   "source": [
    "## Recursive solution # TODO"
   ]
  },
  {
   "cell_type": "markdown",
   "id": "845ec642",
   "metadata": {},
   "source": [
    "## 24: Swap Nodes in Pairs\n",
    "\n",
    "#### Corner cases:\n",
    "    \n",
    "    1. No linked list\n",
    "    2. Single element\n",
    "    3. Odd Number of elements\n",
    "    4. Even number of elements"
   ]
  },
  {
   "cell_type": "code",
   "execution_count": 17,
   "id": "ec86181a",
   "metadata": {},
   "outputs": [],
   "source": [
    "## Rearranging connections\n",
    "\n",
    "class Solution:\n",
    "    def swapPairs(self, head: Optional[ListNode]) -> Optional[ListNode]:\n",
    "        if not head:\n",
    "            return head\n",
    "\n",
    "        if not head.next:\n",
    "            return head\n",
    "\n",
    "        res = head.next\n",
    "        temp = head\n",
    "\n",
    "        while temp and temp.next:\n",
    "            p1 = temp\n",
    "            p2 = temp.next\n",
    "            temp = p2.next\n",
    "            p2.next = p1\n",
    "            if temp and temp.next:\n",
    "                p1.next = temp.next\n",
    "            else:\n",
    "                p1.next = temp\n",
    "\n",
    "        return res"
   ]
  },
  {
   "cell_type": "code",
   "execution_count": 20,
   "id": "f1630298",
   "metadata": {},
   "outputs": [],
   "source": [
    "## Using dummy head Node"
   ]
  },
  {
   "cell_type": "markdown",
   "id": "14c978bd",
   "metadata": {},
   "source": [
    "## 19: Remove Nth Node From End of List"
   ]
  },
  {
   "cell_type": "code",
   "execution_count": 21,
   "id": "1c681a49",
   "metadata": {},
   "outputs": [],
   "source": [
    "class Solution:\n",
    "    def removeNthFromEnd(self, head: Optional[ListNode], n: int) -> Optional[ListNode]:\n",
    "        \n",
    "        sz = 0\n",
    "        curr = head\n",
    "        while curr:\n",
    "            sz += 1\n",
    "            curr = curr.next\n",
    "\n",
    "        if sz == n:\n",
    "            return head.next\n",
    "\n",
    "        pos = sz - n\n",
    "        curr = head\n",
    "\n",
    "        for i in range(pos - 1):\n",
    "            curr = curr.next\n",
    "\n",
    "        curr.next = curr.next.next\n",
    "        return head"
   ]
  },
  {
   "cell_type": "markdown",
   "id": "3f492abe",
   "metadata": {},
   "source": [
    "## 160: Intersection of Two Linked List"
   ]
  },
  {
   "cell_type": "code",
   "execution_count": null,
   "id": "4e584e91",
   "metadata": {},
   "outputs": [],
   "source": [
    "## Brute force O(n^2) - TLE\n",
    "\n",
    "class Solution:\n",
    "    def getIntersectionNode(self, headA: ListNode, headB: ListNode) -> Optional[ListNode]:\n",
    "        curr_a = headA\n",
    "        while curr_a:\n",
    "            curr_b = headB\n",
    "            while curr_b:\n",
    "                if curr_a == curr_b:\n",
    "                    return curr_a\n",
    "                curr_b = curr_b.next\n",
    "            curr_a = curr_a.next\n",
    "        return None"
   ]
  },
  {
   "cell_type": "code",
   "execution_count": null,
   "id": "d6f4bdfb",
   "metadata": {},
   "outputs": [],
   "source": [
    "## Using sets to bring it down to O(m + n) in time and O(n) in space\n",
    "\n",
    "class Solution:\n",
    "    def getIntersectionNode(self, headA: ListNode, headB: ListNode) -> Optional[ListNode]:\n",
    "        st_a = set()\n",
    "\n",
    "        curr_a = headA\n",
    "        while curr_a:\n",
    "            st_a.add(curr_a)\n",
    "            curr_a = curr_a.next\n",
    "\n",
    "        curr_b = headB\n",
    "        while curr_b:\n",
    "            if curr_b in st_a:\n",
    "                return curr_b\n",
    "            curr_b = curr_b.next\n",
    "\n",
    "        return None"
   ]
  },
  {
   "cell_type": "code",
   "execution_count": null,
   "id": "4e438263",
   "metadata": {},
   "outputs": [],
   "source": [
    "## Using length of the lists to find the comparison point: O(m + n) time and O(1) in space\n",
    "\n",
    "class Solution:\n",
    "    def getIntersectionNode(self, headA: ListNode, headB: ListNode) -> Optional[ListNode]:\n",
    "        sz_a = 0\n",
    "        curr_a = headA\n",
    "        while curr_a:\n",
    "            sz_a += 1\n",
    "            curr_a = curr_a.next\n",
    "\n",
    "        sz_b = 0\n",
    "        curr_b = headB\n",
    "        while curr_b:\n",
    "            sz_b += 1\n",
    "            curr_b = curr_b.next\n",
    "\n",
    "        curr_a = headA\n",
    "        curr_b = headB\n",
    "\n",
    "        if sz_a < sz_b:\n",
    "            for i in range(sz_b - sz_a):\n",
    "                curr_b = curr_b.next\n",
    "\n",
    "        if sz_a > sz_b:\n",
    "            for i in range(sz_a - sz_b):\n",
    "                curr_a = curr_a.next\n",
    "\n",
    "\n",
    "        while curr_a:\n",
    "            if curr_a == curr_b:\n",
    "                return curr_a\n",
    "            curr_a = curr_a.next\n",
    "            curr_b = curr_b.next\n",
    "        \n",
    "        return None"
   ]
  },
  {
   "cell_type": "markdown",
   "id": "b0728588",
   "metadata": {},
   "source": [
    "## 142: Linked List Cycle II"
   ]
  },
  {
   "cell_type": "code",
   "execution_count": 23,
   "id": "cedbef77",
   "metadata": {},
   "outputs": [],
   "source": [
    "## Using hash table: O(n) time and O(n) memory\n",
    "\n",
    "class Solution:\n",
    "    def detectCycle(self, head: Optional[ListNode]) -> Optional[ListNode]:\n",
    "        st_a = set()\n",
    "\n",
    "        curr = head\n",
    "\n",
    "        while curr:\n",
    "            if curr in st_a:\n",
    "                return curr\n",
    "            st_a.add(curr)\n",
    "            curr = curr.next\n",
    "\n",
    "        return None"
   ]
  },
  {
   "cell_type": "code",
   "execution_count": 22,
   "id": "6b8fabdf",
   "metadata": {},
   "outputs": [],
   "source": [
    "## Floyd's Cycle detection algorithm: O(n) time and O(1) memory\n",
    "## Make a note with the math\n",
    "\n",
    "class Solution:\n",
    "    def detectCycle(self, head: Optional[ListNode]) -> Optional[ListNode]:\n",
    "        p1 = head\n",
    "        p2 = head\n",
    "\n",
    "        cycle = False\n",
    "\n",
    "        if not p2 or not p2.next:\n",
    "            return None\n",
    "\n",
    "        while p2 and p2.next:\n",
    "            p1 = p1.next\n",
    "            p2 = p2.next.next\n",
    "\n",
    "            if p1 == p2:\n",
    "                cycle = True\n",
    "                break\n",
    "\n",
    "        if not cycle:\n",
    "            return None\n",
    "        \n",
    "        p1 = head\n",
    "        while p1 != p2:\n",
    "            p1 = p1.next\n",
    "            p2 = p2.next\n",
    "\n",
    "        return p1"
   ]
  },
  {
   "cell_type": "code",
   "execution_count": null,
   "id": "4f5f23f4",
   "metadata": {},
   "outputs": [],
   "source": []
  },
  {
   "cell_type": "code",
   "execution_count": null,
   "id": "9489fd18",
   "metadata": {},
   "outputs": [],
   "source": []
  },
  {
   "cell_type": "code",
   "execution_count": null,
   "id": "75cd8cac",
   "metadata": {},
   "outputs": [],
   "source": []
  },
  {
   "cell_type": "code",
   "execution_count": null,
   "id": "b92e165a",
   "metadata": {},
   "outputs": [],
   "source": []
  },
  {
   "cell_type": "code",
   "execution_count": null,
   "id": "0f7efb3b",
   "metadata": {},
   "outputs": [],
   "source": []
  },
  {
   "cell_type": "code",
   "execution_count": null,
   "id": "89c7b108",
   "metadata": {},
   "outputs": [],
   "source": []
  },
  {
   "cell_type": "code",
   "execution_count": null,
   "id": "3e102dcc",
   "metadata": {},
   "outputs": [],
   "source": []
  }
 ],
 "metadata": {
  "kernelspec": {
   "display_name": "Python 3 (ipykernel)",
   "language": "python",
   "name": "python3"
  },
  "language_info": {
   "codemirror_mode": {
    "name": "ipython",
    "version": 3
   },
   "file_extension": ".py",
   "mimetype": "text/x-python",
   "name": "python",
   "nbconvert_exporter": "python",
   "pygments_lexer": "ipython3",
   "version": "3.8.8"
  }
 },
 "nbformat": 4,
 "nbformat_minor": 5
}
