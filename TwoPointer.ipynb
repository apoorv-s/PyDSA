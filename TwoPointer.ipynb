{
 "cells": [
  {
   "cell_type": "code",
   "execution_count": 4,
   "id": "85844b95-86ed-4787-bd88-7f6236d4f704",
   "metadata": {},
   "outputs": [],
   "source": [
    "from typing import List, Optional"
   ]
  },
  {
   "cell_type": "code",
   "execution_count": 15,
   "id": "f197107b-901e-4e22-b453-004ed6a06a6d",
   "metadata": {},
   "outputs": [],
   "source": [
    "## Definition for singly-linked list.\n",
    "class ListNode:\n",
    "    def __init__(self, val=0, next=None):\n",
    "        self.val = val\n",
    "        self.next = next"
   ]
  },
  {
   "cell_type": "markdown",
   "id": "026e6f0f-0814-4fdb-9b82-3b2aba4a6b74",
   "metadata": {
    "jp-MarkdownHeadingCollapsed": true
   },
   "source": [
    "## 27: Remove Element"
   ]
  },
  {
   "cell_type": "code",
   "execution_count": 10,
   "id": "274221fe-c81b-47d4-8d6c-30468c25e98e",
   "metadata": {},
   "outputs": [],
   "source": [
    "class Solution:\n",
    "    def removeElement(self, nums: List[int], val: int) -> int:\n",
    "        start = 0\n",
    "        end = len(nums) - 1\n",
    "\n",
    "        while start <= end:\n",
    "            if nums[start] == val:\n",
    "                if nums[end] != val:\n",
    "                    nums[start], nums[end] = nums[end], nums[start]\n",
    "                    start += 1\n",
    "                    end -= 1\n",
    "                else:\n",
    "                    end -= 1\n",
    "            else:\n",
    "                start += 1\n",
    "\n",
    "        return start"
   ]
  },
  {
   "cell_type": "markdown",
   "id": "308da898-661e-4837-949f-6912818b8b1b",
   "metadata": {
    "jp-MarkdownHeadingCollapsed": true
   },
   "source": [
    "## 344: Reverse String"
   ]
  },
  {
   "cell_type": "code",
   "execution_count": 11,
   "id": "4cd718f6-9541-4e11-8d9e-3ab8b6e8ffc2",
   "metadata": {},
   "outputs": [],
   "source": [
    "class Solution:\n",
    "    def reverseString(self, s: List[str]) -> None:\n",
    "        \"\"\"\n",
    "        Do not return anything, modify s in-place instead.\n",
    "        \"\"\"\n",
    "        start = 0\n",
    "        end = len(s) - 1\n",
    "\n",
    "        while start < end:\n",
    "            s[start], s[end] = s[end], s[start]\n",
    "            start += 1\n",
    "            end -= 1\n",
    "\n",
    "        return"
   ]
  },
  {
   "cell_type": "markdown",
   "id": "c0ce72f5-39e3-4d75-9c62-c0ce369f358a",
   "metadata": {
    "jp-MarkdownHeadingCollapsed": true
   },
   "source": [
    "## 151: Reverse Words in a String"
   ]
  },
  {
   "cell_type": "code",
   "execution_count": 12,
   "id": "75bfdf71-1e93-4645-8b03-01448681f561",
   "metadata": {},
   "outputs": [],
   "source": [
    "## Do it without using the split function: TODO\n",
    "\n",
    "class Solution:\n",
    "    def reverseWords(self, s: str) -> str:\n",
    "        # return \" \".join(s.split()[::-1])\n",
    "        pass\n",
    "\n"
   ]
  },
  {
   "cell_type": "markdown",
   "id": "2c76fd68-122e-4ea8-81f9-a7809c021972",
   "metadata": {
    "jp-MarkdownHeadingCollapsed": true
   },
   "source": [
    "## 206: Reverse a Linked List"
   ]
  },
  {
   "cell_type": "code",
   "execution_count": 13,
   "id": "18c2369f-7161-451d-bb08-bf45dfa17f85",
   "metadata": {},
   "outputs": [],
   "source": [
    "## Rearranging connection\n",
    "\n",
    "class Solution:\n",
    "    def reverseList(self, head: Optional[ListNode]) -> Optional[ListNode]:\n",
    "        if not head:\n",
    "            return head\n",
    "        \n",
    "        prev = None\n",
    "        curr = head\n",
    "        temp = curr.next\n",
    "        curr.next = None\n",
    "        \n",
    "        while temp:\n",
    "            prev = curr\n",
    "            curr = temp\n",
    "            temp = curr.next\n",
    "            curr.next = prev\n",
    "        \n",
    "        return curr"
   ]
  },
  {
   "cell_type": "markdown",
   "id": "09e03d60-31c5-44b6-aa7a-53cc3248cb61",
   "metadata": {
    "jp-MarkdownHeadingCollapsed": true
   },
   "source": [
    "## 19: Remove Nth Node From End of List"
   ]
  },
  {
   "cell_type": "code",
   "execution_count": 14,
   "id": "228c6099-cbbe-45dc-97b0-f45e9c78bdae",
   "metadata": {},
   "outputs": [],
   "source": [
    "class Solution:\n",
    "    def removeNthFromEnd(self, head: Optional[ListNode], n: int) -> Optional[ListNode]:\n",
    "        \n",
    "        sz = 0\n",
    "        curr = head\n",
    "        while curr:\n",
    "            sz += 1\n",
    "            curr = curr.next\n",
    "\n",
    "        if sz == n:\n",
    "            return head.next\n",
    "\n",
    "        pos = sz - n\n",
    "        curr = head\n",
    "\n",
    "        for i in range(pos - 1):\n",
    "            curr = curr.next\n",
    "\n",
    "        curr.next = curr.next.next\n",
    "        return head"
   ]
  },
  {
   "cell_type": "markdown",
   "id": "2fe5099b-1ef0-4b06-b720-fd02da675e9a",
   "metadata": {},
   "source": [
    "## 160: Intersection of Two Linked List"
   ]
  },
  {
   "cell_type": "code",
   "execution_count": null,
   "id": "48ee9a15-7889-4ec8-a14b-058f14012335",
   "metadata": {},
   "outputs": [],
   "source": [
    "## Using length of the lists to find the comparison point: O(m + n) time and O(1) in space\n",
    "\n",
    "class Solution:\n",
    "    def getIntersectionNode(self, headA: ListNode, headB: ListNode) -> Optional[ListNode]:\n",
    "        sz_a = 0\n",
    "        curr_a = headA\n",
    "        while curr_a:\n",
    "            sz_a += 1\n",
    "            curr_a = curr_a.next\n",
    "\n",
    "        sz_b = 0\n",
    "        curr_b = headB\n",
    "        while curr_b:\n",
    "            sz_b += 1\n",
    "            curr_b = curr_b.next\n",
    "\n",
    "        curr_a = headA\n",
    "        curr_b = headB\n",
    "\n",
    "        if sz_a < sz_b:\n",
    "            for i in range(sz_b - sz_a):\n",
    "                curr_b = curr_b.next\n",
    "\n",
    "        if sz_a > sz_b:\n",
    "            for i in range(sz_a - sz_b):\n",
    "                curr_a = curr_a.next\n",
    "\n",
    "\n",
    "        while curr_a:\n",
    "            if curr_a == curr_b:\n",
    "                return curr_a\n",
    "            curr_a = curr_a.next\n",
    "            curr_b = curr_b.next\n",
    "        \n",
    "        return None"
   ]
  },
  {
   "cell_type": "markdown",
   "id": "b81ff69d-db0e-4c9a-87fe-3f8604cb5a39",
   "metadata": {},
   "source": [
    "## 142: Linked List Cycle II"
   ]
  },
  {
   "cell_type": "code",
   "execution_count": 16,
   "id": "f48328e9-0f19-4ed5-9179-a5a5cdd890c3",
   "metadata": {},
   "outputs": [],
   "source": [
    "## Floyd's Cycle detection algorithm: O(n) time and O(1) memory\n",
    "## Make a note with the math\n",
    "\n",
    "class Solution:\n",
    "    def detectCycle(self, head: Optional[ListNode]) -> Optional[ListNode]:\n",
    "        p1 = head\n",
    "        p2 = head\n",
    "\n",
    "        cycle = False\n",
    "\n",
    "        if not p2 or not p2.next:\n",
    "            return None\n",
    "\n",
    "        while p2 and p2.next:\n",
    "            p1 = p1.next\n",
    "            p2 = p2.next.next\n",
    "\n",
    "            if p1 == p2:\n",
    "                cycle = True\n",
    "                break\n",
    "\n",
    "        if not cycle:\n",
    "            return None\n",
    "        \n",
    "        p1 = head\n",
    "        while p1 != p2:\n",
    "            p1 = p1.next\n",
    "            p2 = p2.next\n",
    "\n",
    "        return p1"
   ]
  },
  {
   "cell_type": "markdown",
   "id": "febc27e0-393c-4efa-b379-98e793a83900",
   "metadata": {},
   "source": [
    "## 15: 3Sum"
   ]
  },
  {
   "cell_type": "code",
   "execution_count": null,
   "id": "caaee33a-3ba2-48b1-abc0-c0bfa1a7ece7",
   "metadata": {},
   "outputs": [],
   "source": [
    "## Using double pointers - O(n^2)\n",
    "\n",
    "class Solution:\n",
    "    def threeSum(self, nums: List[int]) -> List[List[int]]:\n",
    "        nums.sort()\n",
    "        res = []\n",
    "        n = len(nums)\n",
    "\n",
    "        for i in range(n - 2):\n",
    "            if nums[i] > 0:\n",
    "                return res\n",
    "\n",
    "            if i > 0 and nums[i] == nums[i - 1]:\n",
    "                continue\n",
    "\n",
    "            left = i + 1\n",
    "            right = n - 1\n",
    "\n",
    "            while left < right:\n",
    "                s = nums[i] + nums[left] + nums[right]\n",
    "                if s < 0:\n",
    "                    left += 1\n",
    "                elif s > 0:\n",
    "                    right -= 1\n",
    "                else:\n",
    "                    res.append([nums[i], nums[left], nums[right]])\n",
    "\n",
    "                    left += 1\n",
    "                    right -= 1\n",
    "\n",
    "                    while nums[left] == nums[left - 1] and left < right:\n",
    "                        left += 1\n",
    "                    \n",
    "                    while nums[right] == nums[right + 1] and left < right:\n",
    "                        right -= 1\n",
    "\n",
    "        return res"
   ]
  },
  {
   "cell_type": "markdown",
   "id": "9d01ecc5-9424-4a70-b6f7-60446313dbf6",
   "metadata": {},
   "source": [
    "## 18: 4Sum"
   ]
  },
  {
   "cell_type": "code",
   "execution_count": 17,
   "id": "aa61684a-c8c3-400f-a618-975307658e66",
   "metadata": {},
   "outputs": [],
   "source": [
    "## Double pointer - similar to 3Sum - O(n^3)\n",
    "\n",
    "class Solution:\n",
    "    def fourSum(self, nums: List[int], target: int) -> List[List[int]]:\n",
    "        n = len(nums)\n",
    "        res = []\n",
    "        nums.sort()\n",
    "\n",
    "        for i in range(n - 3):\n",
    "            if 4*nums[i] > target:\n",
    "                return res\n",
    "\n",
    "            if i > 0 and nums[i] == nums[i - 1]:\n",
    "                continue\n",
    "\n",
    "            for j in range(i + 1, n - 2):\n",
    "                if nums[i] + nums[j]*3 > target:\n",
    "                    break\n",
    "                \n",
    "                if j > i + 1 and nums[j] == nums[j - 1]:\n",
    "                    continue\n",
    "\n",
    "                left = j + 1\n",
    "                right = n - 1\n",
    "\n",
    "                while left < right:\n",
    "                    s = nums[i] + nums[j] + nums[left] + nums[right]\n",
    "\n",
    "                    if s == target:\n",
    "                        res.append([nums[i], nums[j], nums[left], nums[right]])\n",
    "\n",
    "                        left += 1\n",
    "                        right -= 1\n",
    "\n",
    "                        while nums[left] == nums[left - 1] and left < right:\n",
    "                            left += 1\n",
    "\n",
    "                        while nums[right] == nums[right + 1] and left < right:\n",
    "                            right -= 1\n",
    "\n",
    "                    elif s < target:\n",
    "                        left += 1\n",
    "                    else:\n",
    "                        right -= 1\n",
    "\n",
    "        return res"
   ]
  },
  {
   "cell_type": "code",
   "execution_count": null,
   "id": "dae836d8-ae28-41d8-8fae-328df542cba9",
   "metadata": {},
   "outputs": [],
   "source": []
  },
  {
   "cell_type": "code",
   "execution_count": null,
   "id": "f3e141dd-2bd4-4c1a-9e26-23affa9ba464",
   "metadata": {},
   "outputs": [],
   "source": []
  },
  {
   "cell_type": "code",
   "execution_count": null,
   "id": "8a888a28-1a5e-4116-840d-ae637083f2bb",
   "metadata": {},
   "outputs": [],
   "source": []
  },
  {
   "cell_type": "code",
   "execution_count": null,
   "id": "95db5882-3678-435a-bc5a-ebc93265ee89",
   "metadata": {},
   "outputs": [],
   "source": []
  },
  {
   "cell_type": "code",
   "execution_count": null,
   "id": "2277a8da-6214-4bb1-8f61-be0fe36886f4",
   "metadata": {},
   "outputs": [],
   "source": []
  },
  {
   "cell_type": "code",
   "execution_count": null,
   "id": "0601f1e1-67cc-4102-a6af-e8459ee91a43",
   "metadata": {},
   "outputs": [],
   "source": []
  },
  {
   "cell_type": "code",
   "execution_count": null,
   "id": "44bcaab4-f371-4127-83d1-c8b368b213a5",
   "metadata": {},
   "outputs": [],
   "source": []
  }
 ],
 "metadata": {
  "kernelspec": {
   "display_name": "Python 3 (ipykernel)",
   "language": "python",
   "name": "python3"
  },
  "language_info": {
   "codemirror_mode": {
    "name": "ipython",
    "version": 3
   },
   "file_extension": ".py",
   "mimetype": "text/x-python",
   "name": "python",
   "nbconvert_exporter": "python",
   "pygments_lexer": "ipython3",
   "version": "3.8.20"
  }
 },
 "nbformat": 4,
 "nbformat_minor": 5
}
